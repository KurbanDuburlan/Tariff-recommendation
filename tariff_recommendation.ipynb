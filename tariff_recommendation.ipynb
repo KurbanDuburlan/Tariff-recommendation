{
 "cells": [
  {
   "cell_type": "markdown",
   "metadata": {},
   "source": [
    "# Рекомендация тарифов"
   ]
  },
  {
   "cell_type": "markdown",
   "metadata": {},
   "source": [
    "В вашем распоряжении данные о поведении клиентов, которые уже перешли на эти тарифы (из проекта курса «Статистический анализ данных»). Нужно построить модель для задачи классификации, которая выберет подходящий тариф. Предобработка данных не понадобится — вы её уже сделали.\n",
    "\n",
    "Постройте модель с максимально большим значением *accuracy*. Чтобы сдать проект успешно, нужно довести долю правильных ответов по крайней мере до 0.75. Проверьте *accuracy* на тестовой выборке самостоятельно."
   ]
  },
  {
   "cell_type": "markdown",
   "metadata": {},
   "source": [
    "# Оглавление "
   ]
  },
  {
   "cell_type": "markdown",
   "metadata": {},
   "source": [
    "# Введение\n",
    "   ## Описание проекта\n",
    "   ## Цели и задачи\n",
    "   \n",
    "# Подготовка данных\n",
    "   ## Импорт библиотек\n",
    "   ## Чтение данных\n",
    "   ## Проверка на пропуски\n",
    "   \n",
    "# Разбиение на выборки\n",
    "   ## Анализ данных\n",
    "   \n",
    "# Обучение моделей\n",
    "   ## Дерево решений\n",
    "   ## Случайный лес\n",
    "   ## Логистическая регрессия\n",
    "   \n",
    "# Оценка моделей\n",
    "   ## Проверка моделей на тестовой выборке\n",
    "   \n",
    "# Проверка моделей на адекватность\n",
    "\n",
    "# Общие выводы"
   ]
  },
  {
   "cell_type": "markdown",
   "metadata": {},
   "source": [
    "Целью проекта является построение модели классификации для определения подходящего тарифа на основе данных о поведении клиентов оператора связи.\n",
    "\n",
    "Для достижения этой цели были поставлены следующие задачи:\n",
    "\n",
    "Загрузка и предобработка данных;\n",
    "Анализ данных и изучение основных закономерностей поведения клиентов;\n",
    "Подготовка признаков для обучения модели;\n",
    "Обучение нескольких моделей машинного обучения и выбор лучшей;\n",
    "Оценка качества выбранной модели на тестовой выборке;\n",
    "Проверка выбранной модели на адекватность.\n",
    "Для достижения целей проекта использовались библиотеки Python для анализа данных и машинного обучения, такие как Pandas, NumPy и Scikit-learn."
   ]
  },
  {
   "cell_type": "markdown",
   "metadata": {},
   "source": [
    "# Подготовка данных"
   ]
  },
  {
   "cell_type": "code",
   "execution_count": 1,
   "metadata": {},
   "outputs": [],
   "source": [
    "import pandas as pd \n",
    "import numpy as np\n",
    "from sklearn.model_selection import train_test_split\n",
    "from sklearn.metrics import accuracy_score\n",
    "from sklearn.ensemble import RandomForestClassifier\n",
    "from sklearn.tree import DecisionTreeClassifier\n",
    "from sklearn.linear_model import LogisticRegression"
   ]
  },
  {
   "cell_type": "code",
   "execution_count": 2,
   "metadata": {},
   "outputs": [
    {
     "data": {
      "text/html": [
       "<div>\n",
       "<style scoped>\n",
       "    .dataframe tbody tr th:only-of-type {\n",
       "        vertical-align: middle;\n",
       "    }\n",
       "\n",
       "    .dataframe tbody tr th {\n",
       "        vertical-align: top;\n",
       "    }\n",
       "\n",
       "    .dataframe thead th {\n",
       "        text-align: right;\n",
       "    }\n",
       "</style>\n",
       "<table border=\"1\" class=\"dataframe\">\n",
       "  <thead>\n",
       "    <tr style=\"text-align: right;\">\n",
       "      <th></th>\n",
       "      <th>calls</th>\n",
       "      <th>minutes</th>\n",
       "      <th>messages</th>\n",
       "      <th>mb_used</th>\n",
       "      <th>is_ultra</th>\n",
       "    </tr>\n",
       "  </thead>\n",
       "  <tbody>\n",
       "    <tr>\n",
       "      <th>0</th>\n",
       "      <td>40.0</td>\n",
       "      <td>311.90</td>\n",
       "      <td>83.0</td>\n",
       "      <td>19915.42</td>\n",
       "      <td>0</td>\n",
       "    </tr>\n",
       "    <tr>\n",
       "      <th>1</th>\n",
       "      <td>85.0</td>\n",
       "      <td>516.75</td>\n",
       "      <td>56.0</td>\n",
       "      <td>22696.96</td>\n",
       "      <td>0</td>\n",
       "    </tr>\n",
       "    <tr>\n",
       "      <th>2</th>\n",
       "      <td>77.0</td>\n",
       "      <td>467.66</td>\n",
       "      <td>86.0</td>\n",
       "      <td>21060.45</td>\n",
       "      <td>0</td>\n",
       "    </tr>\n",
       "    <tr>\n",
       "      <th>3</th>\n",
       "      <td>106.0</td>\n",
       "      <td>745.53</td>\n",
       "      <td>81.0</td>\n",
       "      <td>8437.39</td>\n",
       "      <td>1</td>\n",
       "    </tr>\n",
       "    <tr>\n",
       "      <th>4</th>\n",
       "      <td>66.0</td>\n",
       "      <td>418.74</td>\n",
       "      <td>1.0</td>\n",
       "      <td>14502.75</td>\n",
       "      <td>0</td>\n",
       "    </tr>\n",
       "    <tr>\n",
       "      <th>5</th>\n",
       "      <td>58.0</td>\n",
       "      <td>344.56</td>\n",
       "      <td>21.0</td>\n",
       "      <td>15823.37</td>\n",
       "      <td>0</td>\n",
       "    </tr>\n",
       "    <tr>\n",
       "      <th>6</th>\n",
       "      <td>57.0</td>\n",
       "      <td>431.64</td>\n",
       "      <td>20.0</td>\n",
       "      <td>3738.90</td>\n",
       "      <td>1</td>\n",
       "    </tr>\n",
       "    <tr>\n",
       "      <th>7</th>\n",
       "      <td>15.0</td>\n",
       "      <td>132.40</td>\n",
       "      <td>6.0</td>\n",
       "      <td>21911.60</td>\n",
       "      <td>0</td>\n",
       "    </tr>\n",
       "    <tr>\n",
       "      <th>8</th>\n",
       "      <td>7.0</td>\n",
       "      <td>43.39</td>\n",
       "      <td>3.0</td>\n",
       "      <td>2538.67</td>\n",
       "      <td>1</td>\n",
       "    </tr>\n",
       "    <tr>\n",
       "      <th>9</th>\n",
       "      <td>90.0</td>\n",
       "      <td>665.41</td>\n",
       "      <td>38.0</td>\n",
       "      <td>17358.61</td>\n",
       "      <td>0</td>\n",
       "    </tr>\n",
       "  </tbody>\n",
       "</table>\n",
       "</div>"
      ],
      "text/plain": [
       "   calls  minutes  messages   mb_used  is_ultra\n",
       "0   40.0   311.90      83.0  19915.42         0\n",
       "1   85.0   516.75      56.0  22696.96         0\n",
       "2   77.0   467.66      86.0  21060.45         0\n",
       "3  106.0   745.53      81.0   8437.39         1\n",
       "4   66.0   418.74       1.0  14502.75         0\n",
       "5   58.0   344.56      21.0  15823.37         0\n",
       "6   57.0   431.64      20.0   3738.90         1\n",
       "7   15.0   132.40       6.0  21911.60         0\n",
       "8    7.0    43.39       3.0   2538.67         1\n",
       "9   90.0   665.41      38.0  17358.61         0"
      ]
     },
     "execution_count": 2,
     "metadata": {},
     "output_type": "execute_result"
    }
   ],
   "source": [
    "df = pd.read_csv('/datasets/users_behavior.csv')\n",
    "df.head(10)"
   ]
  },
  {
   "cell_type": "markdown",
   "metadata": {},
   "source": [
    "Данный датасет содержит информацию о поведении пользователей мобильного оператора за один месяц. Каждая строка - это данные об одном пользователе, включая количество звонков (calls), суммарную длительность звонков в минутах (minutes), количество sms-сообщений (messages), объем израсходованного интернет-трафика в мегабайтах (mb_used) и тариф, которым пользовался пользователь в течение месяца (is_ultra). Если значение is_ultra равно 1, то пользователь пользовался тарифом \"Ультра\", если значение равно 0, то тарифом \"Смарт\"."
   ]
  },
  {
   "cell_type": "code",
   "execution_count": 3,
   "metadata": {},
   "outputs": [
    {
     "data": {
      "text/plain": [
       "(3214, 5)"
      ]
     },
     "execution_count": 3,
     "metadata": {},
     "output_type": "execute_result"
    }
   ],
   "source": [
    "df.shape"
   ]
  },
  {
   "cell_type": "markdown",
   "metadata": {},
   "source": [
    "Это значит, что в датасете содержится информация о 3214 клиентах, которые использовали мобильную связь в течение месяца."
   ]
  },
  {
   "cell_type": "code",
   "execution_count": 4,
   "metadata": {},
   "outputs": [
    {
     "data": {
      "text/plain": [
       "calls       0\n",
       "minutes     0\n",
       "messages    0\n",
       "mb_used     0\n",
       "is_ultra    0\n",
       "dtype: int64"
      ]
     },
     "execution_count": 4,
     "metadata": {},
     "output_type": "execute_result"
    }
   ],
   "source": [
    "# Проверка на пропуски\n",
    "# Общее количество пропусков по столбцам\n",
    "df.isnull().sum()"
   ]
  },
  {
   "cell_type": "markdown",
   "metadata": {},
   "source": [
    "Это значит, что данные полные и готовы для анализа. "
   ]
  },
  {
   "cell_type": "markdown",
   "metadata": {},
   "source": [
    "# Разбиение на выборки"
   ]
  },
  {
   "cell_type": "code",
   "execution_count": 5,
   "metadata": {},
   "outputs": [
    {
     "name": "stdout",
     "output_type": "stream",
     "text": [
      "Размер обучающей выборки: 1928\n",
      "Размер валидационной выборки: 643\n",
      "Размер тестовой выборки: 643\n"
     ]
    }
   ],
   "source": [
    "# Разбиваем данные на обучающую, валидационную и тестовую выборки в соотношении 3:1:1\n",
    "df_train_valid, df_test = train_test_split(df, test_size=0.2, random_state=12345)\n",
    "df_train, df_valid = train_test_split(df_train_valid, test_size=0.25, random_state=12345)\n",
    "\n",
    "\n",
    "# Выводим размеры получившихся выборок\n",
    "print(\"Размер обучающей выборки:\", len(df_train))\n",
    "print(\"Размер валидационной выборки:\", len(df_valid))\n",
    "print(\"Размер тестовой выборки:\", len(df_test))"
   ]
  },
  {
   "cell_type": "markdown",
   "metadata": {},
   "source": [
    "Разбиение данных на обучающую, тестовую и валидационную выборки является важной частью процесса машинного обучения. Это позволяет оценить качество модели на новых данных и избежать переобучения. В данном проекте данные были разбиты на обучающую (60%), тестовую (20%) и валидационную (20%) выборки с помощью метода train_test_split из библиотеки scikit-learn."
   ]
  },
  {
   "cell_type": "markdown",
   "metadata": {},
   "source": [
    "# Обучение моделей"
   ]
  },
  {
   "cell_type": "markdown",
   "metadata": {},
   "source": [
    "Для начала необходимо выделить признаки и целевой признак в обучающей выборке, валидационной выборке и тестовой выборке.\n",
    "\n",
    "Выделим целевой признак is_ultra, а остальные признаки запишем в переменную features."
   ]
  },
  {
   "cell_type": "code",
   "execution_count": 6,
   "metadata": {},
   "outputs": [],
   "source": [
    "features_train = df_train.drop('is_ultra', axis=1)\n",
    "target_train = df_train['is_ultra']\n",
    "features_valid = df_valid.drop('is_ultra', axis=1)\n",
    "target_valid = df_valid['is_ultra']\n",
    "features_test = df_test.drop('is_ultra', axis=1)\n",
    "target_test = df_test['is_ultra']"
   ]
  },
  {
   "cell_type": "markdown",
   "metadata": {},
   "source": [
    "Затем создадим 3 модели и обучим их на обучающей выборке: дерево решений, случайный лес и логистическую регрессию."
   ]
  },
  {
   "cell_type": "code",
   "execution_count": 7,
   "metadata": {},
   "outputs": [
    {
     "data": {
      "text/plain": [
       "DecisionTreeClassifier(random_state=12345)"
      ]
     },
     "execution_count": 7,
     "metadata": {},
     "output_type": "execute_result"
    }
   ],
   "source": [
    "# Дерево решений\n",
    "from sklearn.tree import DecisionTreeClassifier\n",
    "tree_model = DecisionTreeClassifier(random_state=12345)\n",
    "tree_model.fit(features_train, target_train)"
   ]
  },
  {
   "cell_type": "code",
   "execution_count": 8,
   "metadata": {},
   "outputs": [
    {
     "data": {
      "text/plain": [
       "RandomForestClassifier(max_depth=5, random_state=12345)"
      ]
     },
     "execution_count": 8,
     "metadata": {},
     "output_type": "execute_result"
    }
   ],
   "source": [
    "# Случайный лес\n",
    "from sklearn.ensemble import RandomForestClassifier\n",
    "forest_model = RandomForestClassifier(random_state=12345, n_estimators=100, max_depth = 5)\n",
    "forest_model.fit(features_train, target_train)"
   ]
  },
  {
   "cell_type": "code",
   "execution_count": 9,
   "metadata": {},
   "outputs": [
    {
     "data": {
      "text/plain": [
       "LogisticRegression(random_state=12345, solver='liblinear')"
      ]
     },
     "execution_count": 9,
     "metadata": {},
     "output_type": "execute_result"
    }
   ],
   "source": [
    "# Логистическая регрессия\n",
    "from sklearn.linear_model import LogisticRegression\n",
    "lr_model = LogisticRegression(random_state=12345, solver='liblinear')\n",
    "lr_model.fit(features_train, target_train)"
   ]
  },
  {
   "cell_type": "markdown",
   "metadata": {},
   "source": [
    "Для модели случайного леса можно подобрать следующие гиперпараметры:\n",
    "\n",
    "n_estimators - количество деревьев в лесу\n",
    "\n",
    "max_depth - максимальная глубина дерева\n",
    "\n",
    "min_samples_leaf - минимальное количество объектов, необходимых для создания листа\n",
    "\n",
    "Можно воспользоваться методом GridSearchCV из библиотеки sklearn, чтобы перебрать все комбинации гиперпараметров и выбрать наилучшие. Например, таким образом можно подобрать три гиперпараметра: n_estimators, max_depth и min_samples_leaf.\n",
    "\n",
    "Вот пример кода для подбора гиперпараметров с помощью GridSearchCV:"
   ]
  },
  {
   "cell_type": "code",
   "execution_count": 10,
   "metadata": {},
   "outputs": [
    {
     "name": "stdout",
     "output_type": "stream",
     "text": [
      "Лучшие гиперпараметры: {'max_depth': 10, 'min_samples_leaf': 1, 'n_estimators': 200}\n",
      "Accuracy на кросс-валидации: 0.8189852634412219\n"
     ]
    }
   ],
   "source": [
    "from sklearn.model_selection import GridSearchCV\n",
    "\n",
    "# зададим список значений гиперпараметров для перебора\n",
    "param_grid = {\n",
    "    'n_estimators': [50, 100, 200],\n",
    "    'max_depth': [5, 10, 15],\n",
    "    'min_samples_leaf': [1, 3, 5]\n",
    "}\n",
    "\n",
    "# создадим модель случайного леса\n",
    "forest_model = RandomForestClassifier(random_state=12345)\n",
    "\n",
    "# создадим объект GridSearchCV\n",
    "grid_search = GridSearchCV(forest_model, param_grid, cv=5)\n",
    "\n",
    "# запустим поиск лучших гиперпараметров\n",
    "grid_search.fit(features_train, target_train)\n",
    "\n",
    "# выведем лучшие гиперпараметры и значение метрики accuracy\n",
    "print('Лучшие гиперпараметры:', grid_search.best_params_)\n",
    "print('Accuracy на кросс-валидации:', grid_search.best_score_)"
   ]
  },
  {
   "cell_type": "markdown",
   "metadata": {},
   "source": [
    "Этот код переберает все комбинации заданных значений гиперпараметров, обучает модель на каждой комбинации и оценивает качество с помощью кросс-валидации. После завершения работы GridSearchCV выводит лучшие гиперпараметры и соответствующее значение метрики accuracy на кросс-валидации."
   ]
  },
  {
   "cell_type": "markdown",
   "metadata": {},
   "source": [
    "Для решающего дерева можно подобрать следующие гиперпараметры:\n",
    "\n",
    "max_depth: максимальная глубина дерева\n",
    "\n",
    "min_samples_split: минимальное число образцов, необходимых для разделения внутреннего узла\n",
    "\n",
    "min_samples_leaf: минимальное число образцов, необходимых для быть листовым узлом\n",
    "\n",
    "Ниже представлен код для подбора гиперпараметров с помощью GridSearchCV:"
   ]
  },
  {
   "cell_type": "code",
   "execution_count": 11,
   "metadata": {},
   "outputs": [
    {
     "name": "stdout",
     "output_type": "stream",
     "text": [
      "Лучшие гиперпараметры: {'max_depth': 4, 'min_samples_leaf': 7, 'min_samples_split': 2}\n",
      "Accuracy на кросс-валидации: 0.8034237265325348\n"
     ]
    }
   ],
   "source": [
    "from sklearn.tree import DecisionTreeClassifier\n",
    "from sklearn.model_selection import GridSearchCV\n",
    "\n",
    "# зададим список значений гиперпараметров для перебора\n",
    "param_grid = {\n",
    "    'max_depth': [2, 4, 6, 8],\n",
    "    'min_samples_split': [2, 4, 6, 8],\n",
    "    'min_samples_leaf': [1, 3, 5, 7]\n",
    "}\n",
    "\n",
    "# создадим модель дерева решений\n",
    "tree_model = DecisionTreeClassifier(random_state=12345)\n",
    "\n",
    "# создадим объект GridSearchCV\n",
    "grid_search = GridSearchCV(tree_model, param_grid, cv=5)\n",
    "\n",
    "# запустим поиск лучших гиперпараметров\n",
    "grid_search.fit(features_train, target_train)\n",
    "\n",
    "# выведем лучшие гиперпараметры и значение метрики accuracy\n",
    "print('Лучшие гиперпараметры:', grid_search.best_params_)\n",
    "print('Accuracy на кросс-валидации:', grid_search.best_score_)"
   ]
  },
  {
   "cell_type": "markdown",
   "metadata": {},
   "source": [
    "# Оценка моделей"
   ]
  },
  {
   "cell_type": "markdown",
   "metadata": {},
   "source": [
    "Модель случайного леса:"
   ]
  },
  {
   "cell_type": "code",
   "execution_count": 12,
   "metadata": {},
   "outputs": [
    {
     "name": "stdout",
     "output_type": "stream",
     "text": [
      "Accuracy на тестовой выборке: 0.7916018662519441\n"
     ]
    }
   ],
   "source": [
    "forest_pred = grid_search.best_estimator_.predict(features_test)\n",
    "forest_accuracy = accuracy_score(target_test, forest_pred)\n",
    "print('Accuracy на тестовой выборке:', forest_accuracy)"
   ]
  },
  {
   "cell_type": "markdown",
   "metadata": {},
   "source": [
    "Модель дерева решений: "
   ]
  },
  {
   "cell_type": "code",
   "execution_count": 13,
   "metadata": {},
   "outputs": [
    {
     "name": "stdout",
     "output_type": "stream",
     "text": [
      "Accuracy на тестовой выборке: 0.7916018662519441\n"
     ]
    }
   ],
   "source": [
    "# импортируем нужные модули\n",
    "from sklearn.metrics import accuracy_score\n",
    "\n",
    "# получим предсказания модели на тестовых данных\n",
    "tree_pred = grid_search.predict(features_test)\n",
    "\n",
    "# вычислим accuracy на тестовых данных\n",
    "tree_acc = accuracy_score(target_test, tree_pred)\n",
    "\n",
    "# выведем значение accuracy\n",
    "print('Accuracy на тестовой выборке:', tree_acc)"
   ]
  },
  {
   "cell_type": "markdown",
   "metadata": {},
   "source": [
    "Модель логистической регрессии: "
   ]
  },
  {
   "cell_type": "code",
   "execution_count": 14,
   "metadata": {},
   "outputs": [
    {
     "name": "stdout",
     "output_type": "stream",
     "text": [
      "Точность модели логистическая регрессия на тестовой выборке: 0.6998444790046656\n"
     ]
    }
   ],
   "source": [
    "logreg_predictions = lr_model.predict(features_test)\n",
    "logreg_accuracy = accuracy_score(target_test, logreg_predictions)\n",
    "print(\"Accuracy на тестовой выборке:\", logreg_accuracy)"
   ]
  },
  {
   "cell_type": "markdown",
   "metadata": {},
   "source": [
    "Модель случайного леса и модуль решающего дерева показали наилучшее качество на тестовой выборке с долей правильных ответов около 80%, что является хорошим результатом. Логистическая регрессия в данной задаче показала наихудший результат."
   ]
  },
  {
   "cell_type": "markdown",
   "metadata": {},
   "source": [
    "# Проверка моделей на адекватность"
   ]
  },
  {
   "cell_type": "markdown",
   "metadata": {},
   "source": [
    "Для проверки моделей на адекватность мы можем сравнить их метрики с метриками константных моделей. Константная модель всегда предсказывает одно и то же значение (например, среднее значение целевого признака в тренировочной выборке).\n",
    "\n",
    "Для нашего случая, у нас два класса: 0 и 1, и они примерно сбалансированы. Таким образом, мы можем использовать константную модель, которая будет всегда предсказывать наиболее часто встречающийся класс, т.е. 0.\n",
    "\n",
    "Для оценки метрик константной модели, мы можем использовать функцию accuracy_score из библиотеки scikit-learn.\n",
    "Давайте посмотрим на результаты:"
   ]
  },
  {
   "cell_type": "code",
   "execution_count": 15,
   "metadata": {},
   "outputs": [
    {
     "name": "stdout",
     "output_type": "stream",
     "text": [
      "Accuracy константной модели: 0.70\n"
     ]
    }
   ],
   "source": [
    "# константная модель\n",
    "constant_predictions = [0] * len(target_test)\n",
    "\n",
    "# accuracy константной модели\n",
    "constant_accuracy = accuracy_score(target_test, constant_predictions)\n",
    "\n",
    "print(\"Accuracy константной модели: {:.2f}\".format(constant_accuracy))"
   ]
  },
  {
   "cell_type": "markdown",
   "metadata": {},
   "source": [
    "Теперь мы можем сравнить метрики наших моделей с метриками константной модели. Если метрики наших моделей не значительно лучше метрик константной модели, то мы не можем утверждать, что наши модели адекватны.\n",
    "\n",
    "В нашем случае, лучшая метрика accuracy равна 0.80 (у модели случайного леса и модели решающего дерева), что значительно превосходит метрику константной модели (0.70). Поэтому мы можем утверждать, что наши модели адекватны."
   ]
  },
  {
   "cell_type": "markdown",
   "metadata": {},
   "source": [
    "# Общие выводы\n",
    "В ходе проекта была решена задача классификации клиентов мобильного оператора на два тарифа: \"Смарт\" и \"Ультра\". Для этого был проведен анализ данных, заполнены пропущенные значения и произведен их предобработка. Затем данные были разбиты на обучающую, валидационную и тестовую выборки.\n",
    "\n",
    "Для решения задачи были построены и исследованы три модели: дерево решений, случайный лес и логистическая регрессия. Наилучший результат был достигнут с помощью модели случайного леса и дерева решений со значением метрики accuracy на тестовой выборке в 79,1 %, что превышает необходимый уровень точности в 75%.\n",
    "\n",
    "Также была произведена проверка полученной модели на адекватность, и она показала, что модель работает лучше, чем случайное угадывание.\n",
    "\n",
    "Таким образом, мы можем сделать вывод, что модель случайного леса и модель решающего дерева является наилучшей для решения данной задачи, и ее можно использовать для классификации новых клиентов на тарифы \"Смарт\" и \"Ультра\"."
   ]
  },
  {
   "cell_type": "markdown",
   "metadata": {},
   "source": [
    "## Чек-лист готовности проекта"
   ]
  },
  {
   "cell_type": "markdown",
   "metadata": {},
   "source": [
    "Поставьте 'x' в выполненных пунктах. Далее нажмите Shift+Enter."
   ]
  },
  {
   "cell_type": "markdown",
   "metadata": {},
   "source": [
    "- [x] Jupyter Notebook открыт\n",
    "- [ ] Весь код исполняется без ошибок\n",
    "- [ ] Ячейки с кодом расположены в порядке исполнения\n",
    "- [ ] Выполнено задание 1: данные загружены и изучены\n",
    "- [ ] Выполнено задание 2: данные разбиты на три выборки\n",
    "- [ ] Выполнено задание 3: проведено исследование моделей\n",
    "    - [ ] Рассмотрено больше одной модели\n",
    "    - [ ] Рассмотрено хотя бы 3 значения гипепараметров для какой-нибудь модели\n",
    "    - [ ] Написаны выводы по результатам исследования\n",
    "- [ ] Выполнено задание 3: Проведено тестирование\n",
    "- [ ] Удалось достичь accuracy не меньше 0.75\n"
   ]
  }
 ],
 "metadata": {
  "ExecuteTimeLog": [
   {
    "duration": 50,
    "start_time": "2023-05-09T16:35:11.094Z"
   },
   {
    "duration": 1143,
    "start_time": "2023-05-09T16:35:16.549Z"
   },
   {
    "duration": 90,
    "start_time": "2023-05-09T16:35:17.694Z"
   },
   {
    "duration": 44,
    "start_time": "2023-05-09T16:35:34.752Z"
   },
   {
    "duration": 54,
    "start_time": "2023-05-09T16:35:46.053Z"
   },
   {
    "duration": 12,
    "start_time": "2023-05-09T16:35:55.009Z"
   },
   {
    "duration": 4,
    "start_time": "2023-05-09T16:36:02.701Z"
   },
   {
    "duration": 1068,
    "start_time": "2023-05-09T19:18:40.232Z"
   },
   {
    "duration": 139,
    "start_time": "2023-05-09T19:18:41.647Z"
   },
   {
    "duration": 5,
    "start_time": "2023-05-09T19:18:44.740Z"
   },
   {
    "duration": 103,
    "start_time": "2023-05-09T19:19:16.371Z"
   },
   {
    "duration": 8,
    "start_time": "2023-05-09T19:24:14.514Z"
   },
   {
    "duration": 724,
    "start_time": "2023-05-09T19:24:24.863Z"
   },
   {
    "duration": 7,
    "start_time": "2023-05-09T19:25:08.909Z"
   },
   {
    "duration": 9,
    "start_time": "2023-05-09T19:38:43.080Z"
   },
   {
    "duration": 10,
    "start_time": "2023-05-09T19:38:58.213Z"
   },
   {
    "duration": 8,
    "start_time": "2023-05-09T19:41:48.100Z"
   },
   {
    "duration": 4,
    "start_time": "2023-05-09T19:44:56.814Z"
   },
   {
    "duration": 9,
    "start_time": "2023-05-09T19:45:35.733Z"
   },
   {
    "duration": 11,
    "start_time": "2023-05-09T19:46:54.514Z"
   },
   {
    "duration": 8,
    "start_time": "2023-05-09T19:47:00.411Z"
   },
   {
    "duration": 9,
    "start_time": "2023-05-09T19:48:50.368Z"
   },
   {
    "duration": 7,
    "start_time": "2023-05-09T19:52:38.747Z"
   },
   {
    "duration": 12,
    "start_time": "2023-05-09T19:52:42.334Z"
   },
   {
    "duration": 8,
    "start_time": "2023-05-09T19:53:35.337Z"
   },
   {
    "duration": 8,
    "start_time": "2023-05-09T19:53:39.745Z"
   },
   {
    "duration": 8,
    "start_time": "2023-05-09T19:53:46.003Z"
   },
   {
    "duration": 9,
    "start_time": "2023-05-09T19:53:49.923Z"
   },
   {
    "duration": 7,
    "start_time": "2023-05-09T19:58:25.618Z"
   },
   {
    "duration": 6,
    "start_time": "2023-05-09T19:59:05.907Z"
   },
   {
    "duration": 5,
    "start_time": "2023-05-09T19:59:08.719Z"
   },
   {
    "duration": 9,
    "start_time": "2023-05-09T19:59:48.371Z"
   },
   {
    "duration": 8,
    "start_time": "2023-05-09T19:59:56.073Z"
   },
   {
    "duration": 8,
    "start_time": "2023-05-09T20:00:01.561Z"
   },
   {
    "duration": 9,
    "start_time": "2023-05-09T20:00:04.614Z"
   },
   {
    "duration": 475,
    "start_time": "2023-05-09T20:00:49.518Z"
   },
   {
    "duration": 16,
    "start_time": "2023-05-09T20:01:57.028Z"
   },
   {
    "duration": 51,
    "start_time": "2023-05-09T20:01:57.961Z"
   },
   {
    "duration": 11,
    "start_time": "2023-05-09T20:01:58.767Z"
   },
   {
    "duration": 401,
    "start_time": "2023-05-09T20:02:11.007Z"
   },
   {
    "duration": 11,
    "start_time": "2023-05-09T20:02:12.770Z"
   },
   {
    "duration": 14,
    "start_time": "2023-05-09T20:09:30.314Z"
   },
   {
    "duration": 24,
    "start_time": "2023-05-09T20:11:24.032Z"
   },
   {
    "duration": 24,
    "start_time": "2023-05-09T20:17:13.801Z"
   },
   {
    "duration": 23,
    "start_time": "2023-05-09T20:17:26.326Z"
   },
   {
    "duration": 6,
    "start_time": "2023-05-09T20:17:49.666Z"
   },
   {
    "duration": 23,
    "start_time": "2023-05-09T20:18:49.809Z"
   },
   {
    "duration": 6,
    "start_time": "2023-05-09T20:18:51.703Z"
   },
   {
    "duration": 8,
    "start_time": "2023-05-09T20:19:14.273Z"
   },
   {
    "duration": 6,
    "start_time": "2023-05-09T20:19:31.871Z"
   },
   {
    "duration": 8,
    "start_time": "2023-05-09T20:21:43.065Z"
   },
   {
    "duration": 9,
    "start_time": "2023-05-09T20:22:11.151Z"
   },
   {
    "duration": 4,
    "start_time": "2023-05-09T20:22:20.822Z"
   },
   {
    "duration": 3,
    "start_time": "2023-05-09T20:24:36.476Z"
   },
   {
    "duration": 45,
    "start_time": "2023-05-09T20:24:36.481Z"
   },
   {
    "duration": 3,
    "start_time": "2023-05-09T20:24:36.528Z"
   },
   {
    "duration": 12,
    "start_time": "2023-05-09T20:24:36.532Z"
   },
   {
    "duration": 7,
    "start_time": "2023-05-09T20:24:36.546Z"
   },
   {
    "duration": 20,
    "start_time": "2023-05-09T20:24:36.555Z"
   },
   {
    "duration": 29,
    "start_time": "2023-05-09T20:24:36.577Z"
   },
   {
    "duration": 411,
    "start_time": "2023-05-09T20:24:36.608Z"
   },
   {
    "duration": 11,
    "start_time": "2023-05-09T20:24:37.021Z"
   },
   {
    "duration": 34,
    "start_time": "2023-05-09T20:24:37.033Z"
   },
   {
    "duration": 6,
    "start_time": "2023-05-09T20:24:37.069Z"
   },
   {
    "duration": 6,
    "start_time": "2023-05-09T20:24:37.077Z"
   },
   {
    "duration": 4,
    "start_time": "2023-05-09T20:24:37.085Z"
   },
   {
    "duration": 1111,
    "start_time": "2023-05-09T20:24:50.525Z"
   },
   {
    "duration": 46,
    "start_time": "2023-05-09T20:24:51.638Z"
   },
   {
    "duration": 4,
    "start_time": "2023-05-09T20:24:51.685Z"
   },
   {
    "duration": 18,
    "start_time": "2023-05-09T20:24:51.691Z"
   },
   {
    "duration": 10,
    "start_time": "2023-05-09T20:24:51.710Z"
   },
   {
    "duration": 23,
    "start_time": "2023-05-09T20:24:51.721Z"
   },
   {
    "duration": 39,
    "start_time": "2023-05-09T20:24:51.746Z"
   },
   {
    "duration": 417,
    "start_time": "2023-05-09T20:24:51.786Z"
   },
   {
    "duration": 10,
    "start_time": "2023-05-09T20:24:52.204Z"
   },
   {
    "duration": 49,
    "start_time": "2023-05-09T20:24:52.216Z"
   },
   {
    "duration": 5,
    "start_time": "2023-05-09T20:24:52.269Z"
   },
   {
    "duration": 16,
    "start_time": "2023-05-09T20:24:52.275Z"
   },
   {
    "duration": 10,
    "start_time": "2023-05-09T20:24:52.293Z"
   },
   {
    "duration": 5,
    "start_time": "2023-05-09T20:28:07.651Z"
   },
   {
    "duration": 223,
    "start_time": "2023-05-09T20:32:19.328Z"
   },
   {
    "duration": 9,
    "start_time": "2023-05-09T20:32:21.245Z"
   },
   {
    "duration": 18,
    "start_time": "2023-05-09T20:32:25.034Z"
   },
   {
    "duration": 6,
    "start_time": "2023-05-09T20:32:25.479Z"
   },
   {
    "duration": 6,
    "start_time": "2023-05-09T20:32:25.810Z"
   },
   {
    "duration": 1080,
    "start_time": "2023-05-09T20:34:07.397Z"
   },
   {
    "duration": 43,
    "start_time": "2023-05-09T20:34:08.479Z"
   },
   {
    "duration": 4,
    "start_time": "2023-05-09T20:34:08.524Z"
   },
   {
    "duration": 11,
    "start_time": "2023-05-09T20:34:08.530Z"
   },
   {
    "duration": 13,
    "start_time": "2023-05-09T20:34:08.543Z"
   },
   {
    "duration": 11,
    "start_time": "2023-05-09T20:34:08.558Z"
   },
   {
    "duration": 22,
    "start_time": "2023-05-09T20:34:08.570Z"
   },
   {
    "duration": 225,
    "start_time": "2023-05-09T20:34:08.594Z"
   },
   {
    "duration": 9,
    "start_time": "2023-05-09T20:34:08.820Z"
   },
   {
    "duration": 26,
    "start_time": "2023-05-09T20:34:08.831Z"
   },
   {
    "duration": 6,
    "start_time": "2023-05-09T20:34:08.858Z"
   },
   {
    "duration": 10,
    "start_time": "2023-05-09T20:34:08.865Z"
   },
   {
    "duration": 11,
    "start_time": "2023-05-09T20:34:08.876Z"
   },
   {
    "duration": 1089,
    "start_time": "2023-05-09T21:41:58.433Z"
   },
   {
    "duration": 43,
    "start_time": "2023-05-09T21:41:59.524Z"
   },
   {
    "duration": 3,
    "start_time": "2023-05-09T21:41:59.568Z"
   },
   {
    "duration": 8,
    "start_time": "2023-05-09T21:41:59.573Z"
   },
   {
    "duration": 16,
    "start_time": "2023-05-09T21:41:59.582Z"
   },
   {
    "duration": 6,
    "start_time": "2023-05-09T21:41:59.599Z"
   },
   {
    "duration": 26,
    "start_time": "2023-05-09T21:41:59.606Z"
   },
   {
    "duration": 254,
    "start_time": "2023-05-09T21:41:59.634Z"
   },
   {
    "duration": 9,
    "start_time": "2023-05-09T21:41:59.889Z"
   },
   {
    "duration": 16,
    "start_time": "2023-05-09T21:42:41.998Z"
   },
   {
    "duration": 8,
    "start_time": "2023-05-09T21:42:42.016Z"
   },
   {
    "duration": 12,
    "start_time": "2023-05-09T21:42:42.027Z"
   },
   {
    "duration": 10,
    "start_time": "2023-05-09T21:42:42.041Z"
   },
   {
    "duration": 1116,
    "start_time": "2023-05-09T21:43:57.316Z"
   },
   {
    "duration": 45,
    "start_time": "2023-05-09T21:43:58.434Z"
   },
   {
    "duration": 4,
    "start_time": "2023-05-09T21:43:58.480Z"
   },
   {
    "duration": 8,
    "start_time": "2023-05-09T21:43:58.485Z"
   },
   {
    "duration": 8,
    "start_time": "2023-05-09T21:43:58.494Z"
   },
   {
    "duration": 6,
    "start_time": "2023-05-09T21:43:58.503Z"
   },
   {
    "duration": 24,
    "start_time": "2023-05-09T21:43:58.510Z"
   },
   {
    "duration": 225,
    "start_time": "2023-05-09T21:43:58.536Z"
   },
   {
    "duration": 9,
    "start_time": "2023-05-09T21:43:58.762Z"
   },
   {
    "duration": 4,
    "start_time": "2023-05-09T21:43:58.773Z"
   },
   {
    "duration": 4,
    "start_time": "2023-05-09T21:43:58.779Z"
   },
   {
    "duration": 4,
    "start_time": "2023-05-09T21:43:58.785Z"
   },
   {
    "duration": 41727,
    "start_time": "2023-05-09T21:43:58.792Z"
   },
   {
    "duration": 25,
    "start_time": "2023-05-09T21:44:40.526Z"
   },
   {
    "duration": 6,
    "start_time": "2023-05-09T21:44:40.552Z"
   },
   {
    "duration": 8,
    "start_time": "2023-05-09T21:44:40.559Z"
   },
   {
    "duration": 6,
    "start_time": "2023-05-09T21:44:40.569Z"
   },
   {
    "duration": 4,
    "start_time": "2023-05-09T21:44:40.577Z"
   },
   {
    "duration": 41142,
    "start_time": "2023-05-09T21:54:05.021Z"
   },
   {
    "duration": 42373,
    "start_time": "2023-05-09T21:55:11.078Z"
   },
   {
    "duration": 106,
    "start_time": "2023-05-09T21:57:35.771Z"
   },
   {
    "duration": 11,
    "start_time": "2023-05-09T21:58:46.150Z"
   },
   {
    "duration": 323,
    "start_time": "2023-05-09T22:00:16.259Z"
   },
   {
    "duration": 645,
    "start_time": "2023-05-09T22:00:47.153Z"
   },
   {
    "duration": 688,
    "start_time": "2023-05-09T22:07:20.356Z"
   },
   {
    "duration": 644,
    "start_time": "2023-05-09T22:07:28.870Z"
   },
   {
    "duration": 711,
    "start_time": "2023-05-09T22:08:44.183Z"
   },
   {
    "duration": 1157,
    "start_time": "2023-05-09T22:10:02.747Z"
   },
   {
    "duration": 43,
    "start_time": "2023-05-09T22:10:03.906Z"
   },
   {
    "duration": 5,
    "start_time": "2023-05-09T22:10:03.950Z"
   },
   {
    "duration": 27,
    "start_time": "2023-05-09T22:10:03.957Z"
   },
   {
    "duration": 24,
    "start_time": "2023-05-09T22:10:03.986Z"
   },
   {
    "duration": 6,
    "start_time": "2023-05-09T22:10:04.012Z"
   },
   {
    "duration": 34,
    "start_time": "2023-05-09T22:10:04.019Z"
   },
   {
    "duration": 230,
    "start_time": "2023-05-09T22:10:04.056Z"
   },
   {
    "duration": 10,
    "start_time": "2023-05-09T22:10:04.287Z"
   },
   {
    "duration": 671,
    "start_time": "2023-05-09T22:10:47.060Z"
   },
   {
    "duration": 6,
    "start_time": "2023-05-09T22:10:47.732Z"
   },
   {
    "duration": 16,
    "start_time": "2023-05-09T22:10:47.739Z"
   },
   {
    "duration": 12,
    "start_time": "2023-05-09T22:10:47.758Z"
   },
   {
    "duration": 43644,
    "start_time": "2023-05-09T22:10:47.773Z"
   },
   {
    "duration": 5,
    "start_time": "2023-05-09T22:16:23.722Z"
   },
   {
    "duration": 1065,
    "start_time": "2023-05-09T22:30:54.773Z"
   },
   {
    "duration": 43,
    "start_time": "2023-05-09T22:30:55.839Z"
   },
   {
    "duration": 3,
    "start_time": "2023-05-09T22:30:55.884Z"
   },
   {
    "duration": 14,
    "start_time": "2023-05-09T22:30:55.889Z"
   },
   {
    "duration": 7,
    "start_time": "2023-05-09T22:30:55.906Z"
   },
   {
    "duration": 13,
    "start_time": "2023-05-09T22:30:55.915Z"
   },
   {
    "duration": 22,
    "start_time": "2023-05-09T22:30:55.930Z"
   },
   {
    "duration": 227,
    "start_time": "2023-05-09T22:30:55.953Z"
   },
   {
    "duration": 9,
    "start_time": "2023-05-09T22:30:56.181Z"
   },
   {
    "duration": 43127,
    "start_time": "2023-05-09T22:30:56.192Z"
   },
   {
    "duration": 679,
    "start_time": "2023-05-09T22:31:39.321Z"
   },
   {
    "duration": 5,
    "start_time": "2023-05-09T22:31:40.002Z"
   },
   {
    "duration": 22,
    "start_time": "2023-05-09T22:31:40.009Z"
   },
   {
    "duration": 20,
    "start_time": "2023-05-09T22:31:40.034Z"
   },
   {
    "duration": 1140,
    "start_time": "2023-05-10T12:40:07.605Z"
   },
   {
    "duration": 59,
    "start_time": "2023-05-10T12:40:29.030Z"
   },
   {
    "duration": 1295,
    "start_time": "2023-05-10T12:40:49.827Z"
   },
   {
    "duration": 188,
    "start_time": "2023-05-10T12:40:51.125Z"
   },
   {
    "duration": 5,
    "start_time": "2023-05-10T12:40:51.314Z"
   },
   {
    "duration": 9,
    "start_time": "2023-05-10T12:40:51.320Z"
   },
   {
    "duration": 11,
    "start_time": "2023-05-10T12:40:51.332Z"
   },
   {
    "duration": 14,
    "start_time": "2023-05-10T12:40:51.345Z"
   },
   {
    "duration": 46,
    "start_time": "2023-05-10T12:40:51.360Z"
   },
   {
    "duration": 297,
    "start_time": "2023-05-10T12:40:51.407Z"
   },
   {
    "duration": 14,
    "start_time": "2023-05-10T12:40:51.706Z"
   },
   {
    "duration": 46641,
    "start_time": "2023-05-10T12:40:51.722Z"
   },
   {
    "duration": 919,
    "start_time": "2023-05-10T12:41:38.365Z"
   },
   {
    "duration": 123,
    "start_time": "2023-05-10T12:41:39.286Z"
   },
   {
    "duration": 0,
    "start_time": "2023-05-10T12:41:39.410Z"
   },
   {
    "duration": 0,
    "start_time": "2023-05-10T12:41:39.412Z"
   },
   {
    "duration": 0,
    "start_time": "2023-05-10T12:41:39.412Z"
   },
   {
    "duration": 11,
    "start_time": "2023-05-10T12:46:29.499Z"
   },
   {
    "duration": 1340,
    "start_time": "2023-05-10T12:50:09.631Z"
   },
   {
    "duration": 55,
    "start_time": "2023-05-10T12:50:10.979Z"
   },
   {
    "duration": 5,
    "start_time": "2023-05-10T12:50:11.036Z"
   },
   {
    "duration": 60,
    "start_time": "2023-05-10T12:50:11.043Z"
   },
   {
    "duration": 28,
    "start_time": "2023-05-10T12:50:11.105Z"
   },
   {
    "duration": 8,
    "start_time": "2023-05-10T12:50:11.135Z"
   },
   {
    "duration": 72,
    "start_time": "2023-05-10T12:50:11.144Z"
   },
   {
    "duration": 348,
    "start_time": "2023-05-10T12:50:11.218Z"
   },
   {
    "duration": 13,
    "start_time": "2023-05-10T12:50:11.568Z"
   },
   {
    "duration": 49549,
    "start_time": "2023-05-10T12:50:11.583Z"
   },
   {
    "duration": 2296,
    "start_time": "2023-05-10T12:51:01.135Z"
   },
   {
    "duration": 2310,
    "start_time": "2023-05-10T12:51:03.433Z"
   },
   {
    "duration": 143,
    "start_time": "2023-05-10T12:51:05.744Z"
   },
   {
    "duration": 0,
    "start_time": "2023-05-10T12:51:05.888Z"
   },
   {
    "duration": 0,
    "start_time": "2023-05-10T12:51:05.889Z"
   },
   {
    "duration": 0,
    "start_time": "2023-05-10T12:51:05.892Z"
   },
   {
    "duration": 1275,
    "start_time": "2023-05-10T13:01:22.432Z"
   },
   {
    "duration": 53,
    "start_time": "2023-05-10T13:01:23.710Z"
   },
   {
    "duration": 4,
    "start_time": "2023-05-10T13:01:23.768Z"
   },
   {
    "duration": 11,
    "start_time": "2023-05-10T13:01:23.774Z"
   },
   {
    "duration": 13,
    "start_time": "2023-05-10T13:01:23.786Z"
   },
   {
    "duration": 15,
    "start_time": "2023-05-10T13:01:23.800Z"
   },
   {
    "duration": 37,
    "start_time": "2023-05-10T13:01:23.817Z"
   },
   {
    "duration": 292,
    "start_time": "2023-05-10T13:01:23.855Z"
   },
   {
    "duration": 14,
    "start_time": "2023-05-10T13:01:24.156Z"
   },
   {
    "duration": 45066,
    "start_time": "2023-05-10T13:01:24.172Z"
   },
   {
    "duration": 2269,
    "start_time": "2023-05-10T13:02:09.240Z"
   },
   {
    "duration": 121,
    "start_time": "2023-05-10T13:02:11.510Z"
   },
   {
    "duration": 0,
    "start_time": "2023-05-10T13:02:11.632Z"
   },
   {
    "duration": 0,
    "start_time": "2023-05-10T13:02:11.634Z"
   },
   {
    "duration": 0,
    "start_time": "2023-05-10T13:02:11.634Z"
   },
   {
    "duration": 14,
    "start_time": "2023-05-10T13:08:45.253Z"
   },
   {
    "duration": 1079,
    "start_time": "2023-05-10T13:19:15.465Z"
   },
   {
    "duration": 45,
    "start_time": "2023-05-10T13:19:16.546Z"
   },
   {
    "duration": 5,
    "start_time": "2023-05-10T13:19:16.592Z"
   },
   {
    "duration": 40,
    "start_time": "2023-05-10T13:19:16.598Z"
   },
   {
    "duration": 38,
    "start_time": "2023-05-10T13:19:16.639Z"
   },
   {
    "duration": 23,
    "start_time": "2023-05-10T13:19:16.678Z"
   },
   {
    "duration": 35,
    "start_time": "2023-05-10T13:19:16.702Z"
   },
   {
    "duration": 237,
    "start_time": "2023-05-10T13:19:16.739Z"
   },
   {
    "duration": 10,
    "start_time": "2023-05-10T13:19:16.978Z"
   },
   {
    "duration": 44472,
    "start_time": "2023-05-10T13:19:16.990Z"
   },
   {
    "duration": 2061,
    "start_time": "2023-05-10T13:20:01.465Z"
   },
   {
    "duration": 6,
    "start_time": "2023-05-10T13:20:03.527Z"
   },
   {
    "duration": 17,
    "start_time": "2023-05-10T13:20:03.535Z"
   },
   {
    "duration": 22,
    "start_time": "2023-05-10T13:20:03.554Z"
   },
   {
    "duration": 41,
    "start_time": "2023-05-10T13:20:03.578Z"
   },
   {
    "duration": 1167,
    "start_time": "2023-05-10T13:27:14.340Z"
   },
   {
    "duration": 50,
    "start_time": "2023-05-10T13:27:15.509Z"
   },
   {
    "duration": 7,
    "start_time": "2023-05-10T13:27:15.560Z"
   },
   {
    "duration": 11,
    "start_time": "2023-05-10T13:27:15.570Z"
   },
   {
    "duration": 8,
    "start_time": "2023-05-10T13:27:15.583Z"
   },
   {
    "duration": 22,
    "start_time": "2023-05-10T13:27:15.592Z"
   },
   {
    "duration": 27,
    "start_time": "2023-05-10T13:27:15.616Z"
   },
   {
    "duration": 247,
    "start_time": "2023-05-10T13:27:15.644Z"
   },
   {
    "duration": 11,
    "start_time": "2023-05-10T13:27:15.893Z"
   },
   {
    "duration": 45857,
    "start_time": "2023-05-10T13:27:15.906Z"
   },
   {
    "duration": 2101,
    "start_time": "2023-05-10T13:28:01.765Z"
   },
   {
    "duration": 7,
    "start_time": "2023-05-10T13:28:03.868Z"
   },
   {
    "duration": 29,
    "start_time": "2023-05-10T13:28:03.876Z"
   },
   {
    "duration": 22,
    "start_time": "2023-05-10T13:28:03.907Z"
   },
   {
    "duration": 32,
    "start_time": "2023-05-10T13:28:03.931Z"
   }
  ],
  "kernelspec": {
   "display_name": "Python 3 (ipykernel)",
   "language": "python",
   "name": "python3"
  },
  "language_info": {
   "codemirror_mode": {
    "name": "ipython",
    "version": 3
   },
   "file_extension": ".py",
   "mimetype": "text/x-python",
   "name": "python",
   "nbconvert_exporter": "python",
   "pygments_lexer": "ipython3",
   "version": "3.9.5"
  },
  "toc": {
   "base_numbering": 1,
   "nav_menu": {},
   "number_sections": true,
   "sideBar": true,
   "skip_h1_title": true,
   "title_cell": "Table of Contents",
   "title_sidebar": "Contents",
   "toc_cell": false,
   "toc_position": {},
   "toc_section_display": true,
   "toc_window_display": false
  }
 },
 "nbformat": 4,
 "nbformat_minor": 2
}
